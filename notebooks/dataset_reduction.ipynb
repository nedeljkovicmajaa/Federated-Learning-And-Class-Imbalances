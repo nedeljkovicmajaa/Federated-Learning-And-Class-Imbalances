{
 "cells": [
  {
   "cell_type": "markdown",
   "id": "bbb96cd1",
   "metadata": {},
   "source": [
    "# Dataset Reduction for Accelerated Experimentation"
   ]
  },
  {
   "cell_type": "markdown",
   "id": "d051d6bb",
   "metadata": {},
   "source": [
    "To streamline the initial development of both centralised and federated algorithms, only 10% subsets of the training, validation, and test sets were used for early testing and debugging."
   ]
  },
  {
   "cell_type": "markdown",
   "id": "7e7487a8",
   "metadata": {},
   "source": [
    "Import required libraries"
   ]
  },
  {
   "cell_type": "code",
   "execution_count": null,
   "id": "d608b4e6",
   "metadata": {},
   "outputs": [],
   "source": [
    "import matplotlib.pyplot as plt\n",
    "import numpy as np\n",
    "import tensorflow as tf"
   ]
  },
  {
   "cell_type": "markdown",
   "id": "7f000122",
   "metadata": {},
   "source": [
    "Load data"
   ]
  },
  {
   "cell_type": "code",
   "execution_count": null,
   "id": "4153e263",
   "metadata": {},
   "outputs": [],
   "source": [
    "train_images = np.load(\"/home/mn628/FEDERATED_LEARNING/data/train_images.npy\")\n",
    "train_masks = np.load(\"/home/mn628/FEDERATED_LEARNING/data/train_masks.npy\")\n",
    "val_images = np.load(\"/home/mn628/FEDERATED_LEARNING/data/val_images.npy\")\n",
    "val_masks = np.load(\"/home/mn628/FEDERATED_LEARNING/data/val_masks.npy\")\n",
    "test_images = np.load(\"/home/mn628/FEDERATED_LEARNING/data/test_images.npy\")\n",
    "test_masks = np.load(\"/home/mn628/FEDERATED_LEARNING/data/test_masks.npy\")"
   ]
  },
  {
   "cell_type": "markdown",
   "id": "62c29149",
   "metadata": {},
   "source": [
    "Initial shape"
   ]
  },
  {
   "cell_type": "code",
   "execution_count": null,
   "id": "7b589f74",
   "metadata": {},
   "outputs": [
    {
     "data": {
      "text/plain": [
       "((20433, 128, 128, 1),\n",
       " (20433, 128, 128, 1),\n",
       " (1989, 128, 128, 1),\n",
       " (1989, 128, 128, 1),\n",
       " (7089, 128, 128, 1),\n",
       " (7089, 128, 128, 1))"
      ]
     },
     "metadata": {},
     "output_type": "display_data"
    }
   ],
   "source": [
    "train_images.shape, train_masks.shape, val_images.shape, val_masks.shape, test_images.shape, test_masks.shape"
   ]
  },
  {
   "cell_type": "markdown",
   "id": "b634cad8",
   "metadata": {},
   "source": [
    "Reduced size"
   ]
  },
  {
   "cell_type": "code",
   "execution_count": null,
   "id": "cdb61f1c",
   "metadata": {},
   "outputs": [],
   "source": [
    "new_len_train = len(train_images) // 10\n",
    "new_len_val = len(val_images) // 10\n",
    "new_len_test = len(test_images) // 10\n",
    "\n",
    "train_images = train_images[:new_len_train]\n",
    "train_masks = train_masks[:new_len_train]\n",
    "val_images = val_images[:new_len_val]\n",
    "val_masks = val_masks[:new_len_val]\n",
    "test_images = test_images[:new_len_test]\n",
    "test_masks = test_masks[:new_len_test]"
   ]
  },
  {
   "cell_type": "code",
   "execution_count": null,
   "id": "b70271e9",
   "metadata": {},
   "outputs": [
    {
     "data": {
      "text/plain": [
       "((204, 128, 128, 1),\n",
       " (204, 128, 128, 1),\n",
       " (198, 128, 128, 1),\n",
       " (198, 128, 128, 1),\n",
       " (708, 128, 128, 1),\n",
       " (708, 128, 128, 1))"
      ]
     },
     "metadata": {},
     "output_type": "display_data"
    }
   ],
   "source": [
    "train_images.shape, train_masks.shape, val_images.shape, val_masks.shape, test_images.shape, test_masks.shape"
   ]
  },
  {
   "cell_type": "markdown",
   "id": "c42d96e4",
   "metadata": {},
   "source": [
    "saving the new dataset"
   ]
  },
  {
   "cell_type": "code",
   "execution_count": null,
   "id": "062ca39e",
   "metadata": {},
   "outputs": [],
   "source": [
    "np.save(\"/home/mn628/FEDERATED_LEARNING/data_subset/train_images.npy\", train_images)\n",
    "np.save(\"/home/mn628/FEDERATED_LEARNING/data_subset/train_masks.npy\", train_masks)\n",
    "np.save(\"/home/mn628/FEDERATED_LEARNING/data_subset/val_images.npy\", val_images)\n",
    "np.save(\"/home/mn628/FEDERATED_LEARNING/data_subset/val_masks.npy\", val_masks)\n",
    "np.save(\"/home/mn628/FEDERATED_LEARNING/data_subset/test_images.npy\", test_images)\n",
    "np.save(\"/home/mn628/FEDERATED_LEARNING/data_subset/test_masks.npy\", test_masks)"
   ]
  }
 ],
 "metadata": {
  "language_info": {
   "name": "python"
  }
 },
 "nbformat": 4,
 "nbformat_minor": 5
}
